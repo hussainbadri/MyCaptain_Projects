{
 "cells": [
  {
   "cell_type": "code",
   "execution_count": null,
   "metadata": {},
   "outputs": [],
   "source": [
    "a=int(input('Enter a number upto which you want to print fibbonacci series: '))\n",
    "if a>0:\n",
    "    i=0\n",
    "    x=0\n",
    "    y=1\n",
    "    b=[]\n",
    "    b.append(x)\n",
    "    b.append(y)\n",
    "    while i<a-2:\n",
    "        z=x+y\n",
    "        b.append(z)\n",
    "        x=y\n",
    "        y=z\n",
    "        i=i+1\n",
    "    print(b)\n",
    "else:\n",
    "    print('Please enter a number greater than zero')"
   ]
  }
 ],
 "metadata": {
  "kernelspec": {
   "display_name": "Python 3",
   "language": "python",
   "name": "python3"
  },
  "language_info": {
   "codemirror_mode": {
    "name": "ipython",
    "version": 3
   },
   "file_extension": ".py",
   "mimetype": "text/x-python",
   "name": "python",
   "nbconvert_exporter": "python",
   "pygments_lexer": "ipython3",
   "version": "3.7.4"
  }
 },
 "nbformat": 4,
 "nbformat_minor": 2
}
